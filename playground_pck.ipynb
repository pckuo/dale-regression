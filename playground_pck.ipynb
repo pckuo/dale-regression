{
  "nbformat": 4,
  "nbformat_minor": 0,
  "metadata": {
    "colab": {
      "provenance": [],
      "authorship_tag": "ABX9TyNuGdvcBTIrhs9CfHeq+6+g",
      "include_colab_link": true
    },
    "kernelspec": {
      "name": "python3",
      "display_name": "Python 3"
    },
    "language_info": {
      "name": "python"
    }
  },
  "cells": [
    {
      "cell_type": "markdown",
      "metadata": {
        "id": "view-in-github",
        "colab_type": "text"
      },
      "source": [
        "<a href=\"https://colab.research.google.com/github/pckuo/dale-regression/blob/main/playground_pck.ipynb\" target=\"_parent\"><img src=\"https://colab.research.google.com/assets/colab-badge.svg\" alt=\"Open In Colab\"/></a>"
      ]
    },
    {
      "cell_type": "code",
      "execution_count": 1,
      "metadata": {
        "id": "gpCTyKNHO17Y"
      },
      "outputs": [],
      "source": [
        "import jax.numpy as jnp\n",
        "import matplotlib.pyplot as plt\n",
        "from jax import grad, random, lax\n",
        "import seaborn as sns\n",
        "\n",
        "sns.set(font_scale=1.3)\n",
        "sns.set_style(\"whitegrid\")\n",
        "sns.set_palette(\"rocket\", n_colors=10)"
      ]
    },
    {
      "cell_type": "markdown",
      "source": [
        "### Train a Linear Perceptron with Gradient Descent"
      ],
      "metadata": {
        "id": "RD7laQdbPDVQ"
      }
    },
    {
      "cell_type": "code",
      "source": [],
      "metadata": {
        "id": "63QjtJsVPAPB"
      },
      "execution_count": null,
      "outputs": []
    }
  ]
}