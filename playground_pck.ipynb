{
  "nbformat": 4,
  "nbformat_minor": 0,
  "metadata": {
    "colab": {
      "provenance": [],
      "authorship_tag": "ABX9TyMtTPWL22Vjv36F1Ll/l2oG",
      "include_colab_link": true
    },
    "kernelspec": {
      "name": "python3",
      "display_name": "Python 3"
    },
    "language_info": {
      "name": "python"
    }
  },
  "cells": [
    {
      "cell_type": "markdown",
      "metadata": {
        "id": "view-in-github",
        "colab_type": "text"
      },
      "source": [
        "<a href=\"https://colab.research.google.com/github/pckuo/dale-regression/blob/main/playground_pck.ipynb\" target=\"_parent\"><img src=\"https://colab.research.google.com/assets/colab-badge.svg\" alt=\"Open In Colab\"/></a>"
      ]
    },
    {
      "cell_type": "code",
      "source": [
        "pip install qpsolvers[open_source_solvers]"
      ],
      "metadata": {
        "colab": {
          "base_uri": "https://localhost:8080/"
        },
        "id": "TTrEJDd1P-pT",
        "outputId": "b15e5983-33a9-47f2-d1ea-ddcf1fb6af29"
      },
      "execution_count": 1,
      "outputs": [
        {
          "output_type": "stream",
          "name": "stdout",
          "text": [
            "Requirement already satisfied: qpsolvers[open_source_solvers] in /usr/local/lib/python3.10/dist-packages (4.3.3)\n",
            "Requirement already satisfied: numpy>=1.15.4 in /usr/local/lib/python3.10/dist-packages (from qpsolvers[open_source_solvers]) (1.26.4)\n",
            "Requirement already satisfied: scipy>=1.2.0 in /usr/local/lib/python3.10/dist-packages (from qpsolvers[open_source_solvers]) (1.13.1)\n",
            "Requirement already satisfied: proxsuite>=0.2.9 in /usr/local/lib/python3.10/dist-packages (from qpsolvers[open_source_solvers]) (0.6.6)\n",
            "Requirement already satisfied: cvxopt>=1.2.6 in /usr/local/lib/python3.10/dist-packages (from qpsolvers[open_source_solvers]) (1.3.2)\n",
            "Requirement already satisfied: highspy>=1.1.2.dev3 in /usr/local/lib/python3.10/dist-packages (from qpsolvers[open_source_solvers]) (1.7.2)\n",
            "Requirement already satisfied: clarabel>=0.4.1 in /usr/local/lib/python3.10/dist-packages (from qpsolvers[open_source_solvers]) (0.9.0)\n",
            "Requirement already satisfied: daqp>=0.5.1 in /usr/local/lib/python3.10/dist-packages (from qpsolvers[open_source_solvers]) (0.5.1.post1)\n",
            "Requirement already satisfied: qpalm>=1.2.1 in /usr/local/lib/python3.10/dist-packages (from qpsolvers[open_source_solvers]) (1.2.3)\n",
            "Requirement already satisfied: quadprog>=0.1.11 in /usr/local/lib/python3.10/dist-packages (from qpsolvers[open_source_solvers]) (0.1.12)\n",
            "Requirement already satisfied: ecos>=2.0.8 in /usr/local/lib/python3.10/dist-packages (from qpsolvers[open_source_solvers]) (2.0.14)\n",
            "Requirement already satisfied: scs>=3.2.0 in /usr/local/lib/python3.10/dist-packages (from qpsolvers[open_source_solvers]) (3.2.6)\n",
            "Requirement already satisfied: piqp>=0.2.2 in /usr/local/lib/python3.10/dist-packages (from qpsolvers[open_source_solvers]) (0.4.2)\n",
            "Requirement already satisfied: osqp>=0.6.2 in /usr/local/lib/python3.10/dist-packages (from qpsolvers[open_source_solvers]) (0.6.7.post0)\n",
            "Requirement already satisfied: qdldl in /usr/local/lib/python3.10/dist-packages (from osqp>=0.6.2->qpsolvers[open_source_solvers]) (0.1.7.post4)\n",
            "Requirement already satisfied: cmeel in /usr/local/lib/python3.10/dist-packages (from proxsuite>=0.2.9->qpsolvers[open_source_solvers]) (0.53.3)\n",
            "Requirement already satisfied: tomli<3.0.0,>=2.0.1 in /usr/local/lib/python3.10/dist-packages (from cmeel->proxsuite>=0.2.9->qpsolvers[open_source_solvers]) (2.0.1)\n"
          ]
        }
      ]
    },
    {
      "cell_type": "code",
      "execution_count": 2,
      "metadata": {
        "id": "gpCTyKNHO17Y"
      },
      "outputs": [],
      "source": [
        "import numpy as np\n",
        "import matplotlib.pyplot as plt\n",
        "# from sklearn.linear_model import LinearRegression\n",
        "from qpsolvers import solve_ls\n",
        "import time\n",
        "import pickle\n",
        "# import jax.numpy as jnp\n",
        "# from jax import grad, random, lax"
      ]
    },
    {
      "cell_type": "markdown",
      "source": [
        "### Train a Linear Perceptron with Quadratic Programming"
      ],
      "metadata": {
        "id": "RD7laQdbPDVQ"
      }
    },
    {
      "cell_type": "code",
      "source": [
        "SEED = 42\n",
        "\n",
        "# simulation\n",
        "# N = 10000         # n_neuorns\n",
        "# alpha = 1        # proportional limit\n",
        "noise_coeff = 0  # noise_level\n",
        "n_runs = 1   # n_runs per N\n",
        "\n",
        "alphas = np.array([1])\n",
        "# Ns = np.logspace(2,4, num=4)\n",
        "Ns = np.array([1e4])"
      ],
      "metadata": {
        "id": "63QjtJsVPAPB"
      },
      "execution_count": 3,
      "outputs": []
    },
    {
      "cell_type": "code",
      "source": [
        "# set seed\n",
        "np.random.seed(SEED)\n",
        "\n",
        "results_dict = {}\n",
        "\n",
        "for alpha in alphas:\n",
        "  for N in Ns:\n",
        "    print(f'alpha {alpha}, N {N}')\n",
        "    P = int(alpha * N)\n",
        "\n",
        "    # save results\n",
        "    results_dict_alpha_N = {\n",
        "        'w_student': [],\n",
        "        'mean_error_w': [],\n",
        "        'mse_w': [],\n",
        "        'mean_w_teacher_sq': [],\n",
        "        'mean_w_student_sq': [],\n",
        "        'mean_scalar_product_w_teacher_student': []\n",
        "    }\n",
        "\n",
        "    start = time.time()\n",
        "    for run_id in range(n_runs):\n",
        "      # teacher weights\n",
        "      w_teacher = np.random.normal(size=int(N))\n",
        "\n",
        "      # data\n",
        "      X = np.random.normal(size=(P, int(N)))\n",
        "      eps = noise_coeff * np.random.normal(size=P)\n",
        "      y = X @ w_teacher + eps\n",
        "\n",
        "      # solve with sklearn linear regression\n",
        "      # reg_nnls = LinearRegression(positive=True)\n",
        "      # w_student_sk = reg_nnls.fit(X, y).coef_\n",
        "\n",
        "      # solve with quadratic programming\n",
        "      w_student = solve_ls(\n",
        "        R=X,\n",
        "        s=y,\n",
        "        G=-1*np.eye(int(N)),\n",
        "        h=np.zeros(int(N)),\n",
        "        solver=\"osqp\"\n",
        "      )\n",
        "      # solver: osqp: 6min/ 9G for N=1e4\n",
        "      # solver: quadprog: >15min/ 6G for N=1e4\n",
        "      # solver: cvxopt: >11min/ 6G for N=1e4\n",
        "\n",
        "      # compute errors\n",
        "      # mean_error_w_sk = np.sum((w_student_sk - w_teacher))/ N\n",
        "      mean_error_w = np.sum((w_student - w_teacher))/ N\n",
        "      mse_w = np.sum((w_student - w_teacher)**2)/ N\n",
        "      mean_w_teacher_sq = np.sum(w_teacher**2)/ N\n",
        "      mean_w_student_sq = np.sum(w_student**2)/ N\n",
        "      mean_scalar_product_w_teacher_student = np.sum(w_student * w_teacher)/ N\n",
        "\n",
        "      # save results\n",
        "      results_dict_alpha_N['w_student'].append(w_student)\n",
        "      results_dict_alpha_N['mean_error_w'].append(mean_error_w)\n",
        "      results_dict_alpha_N['mse_w'].append(mse_w)\n",
        "      results_dict_alpha_N['mean_w_teacher_sq'].append(mean_w_teacher_sq)\n",
        "      results_dict_alpha_N['mean_w_student_sq'].append(mean_w_student_sq)\n",
        "      results_dict_alpha_N['mean_scalar_product_w_teacher_student'].append(mean_scalar_product_w_teacher_student)\n",
        "\n",
        "    end = time.time()\n",
        "    print(f' elapsed time: {end - start}')\n",
        "    print(f' mse_w: {np.mean(results_dict_alpha_N[\"mse_w\"])}')\n",
        "\n",
        "    for k, v in results_dict_alpha_N.items():\n",
        "      results_dict_alpha_N[k] = np.array(v)\n",
        "\n",
        "    results_dict[(alpha, int(N))] = results_dict_alpha_N\n"
      ],
      "metadata": {
        "colab": {
          "base_uri": "https://localhost:8080/"
        },
        "id": "LE6nTb0JQbYA",
        "outputId": "4f8e753c-ca5c-427f-8473-9b30fab21571"
      },
      "execution_count": 4,
      "outputs": [
        {
          "output_type": "stream",
          "name": "stdout",
          "text": [
            "alpha 1, N 10000.0\n"
          ]
        },
        {
          "output_type": "stream",
          "name": "stderr",
          "text": [
            "/usr/local/lib/python3.10/dist-packages/qpsolvers/conversions/ensure_sparse_matrices.py:24: UserWarning: Converted P to scipy.sparse.csc.csc_matrix\n",
            "For best performance, build P as a scipy.sparse.csc_matrix rather than as a numpy.ndarray\n",
            "  warnings.warn(\n",
            "/usr/local/lib/python3.10/dist-packages/qpsolvers/conversions/ensure_sparse_matrices.py:24: UserWarning: Converted G to scipy.sparse.csc.csc_matrix\n",
            "For best performance, build G as a scipy.sparse.csc_matrix rather than as a numpy.ndarray\n",
            "  warnings.warn(\n"
          ]
        },
        {
          "output_type": "stream",
          "name": "stdout",
          "text": [
            " elapsed time: 382.1630709171295\n",
            " mse_w: 1.0168924646503388\n"
          ]
        }
      ]
    },
    {
      "cell_type": "code",
      "source": [
        "metric = 'mse_w'\n",
        "\n",
        "colors = ['b', 'r']\n",
        "fig, ax = plt.subplots(1,1, figsize=(6,4), dpi=200)\n",
        "for alpha_id, alpha in enumerate(alphas):\n",
        "  for N in Ns:\n",
        "    ax.scatter(\n",
        "        [N]*n_runs,\n",
        "        results_dict[(alpha, int(N))][metric],\n",
        "        c=colors[alpha_id]\n",
        "    )\n",
        "ax.set_xscale('log')\n",
        "ax.set_xlabel('N')\n",
        "ax.set_ylabel('generalization error')\n",
        "ax.set_title('blue: alpha=0.75, red: alpha=1.25')\n",
        "\n",
        ""
      ],
      "metadata": {
        "id": "i0xpO_xC-kAM"
      },
      "execution_count": null,
      "outputs": []
    },
    {
      "cell_type": "code",
      "source": [
        "# MSE\n",
        "print(f'mean_error_w: {mean_error_w}')\n",
        "print(f'mse_w: {mse_w}')\n",
        "# print(f'mean_w_teacher_sq: {mean_w_teacher_sq}')\n",
        "# print(f'mean_w_student_sq: {mean_w_student_sq}')\n",
        "# print(f'mean_scalar_product_w_teacher_student: {mean_scalar_product_w_teacher_student}')"
      ],
      "metadata": {
        "colab": {
          "base_uri": "https://localhost:8080/"
        },
        "id": "rnz0dK_6T00a",
        "outputId": "7839ecf8-0046-4c58-87d5-ffd53a9efbdd"
      },
      "execution_count": 10,
      "outputs": [
        {
          "output_type": "stream",
          "name": "stdout",
          "text": [
            "mean_error_w: 0.5818401061397249\n",
            "mse_w: 1.0168924646503388\n"
          ]
        }
      ]
    },
    {
      "cell_type": "code",
      "source": [
        "plt.plot(w_student - w_teacher)"
      ],
      "metadata": {
        "id": "SgDubtx1S6C7"
      },
      "execution_count": null,
      "outputs": []
    },
    {
      "cell_type": "code",
      "source": [
        "alpha = 1.25\n",
        "for N in Ns:\n",
        "  plt.hist(\n",
        "      results_dict[(alpha, int(N))]['w_student'][0],\n",
        "      bins=np.linspace(-2,5,20),\n",
        "      density=True,\n",
        "      histtype='step',\n",
        "      label=f'{N}'\n",
        "  )\n",
        "plt.legend()"
      ],
      "metadata": {
        "id": "S0vIBrRgh8nd"
      },
      "execution_count": null,
      "outputs": []
    },
    {
      "cell_type": "code",
      "source": [
        "with open('./result_dict_preliminary.pkl', 'wb') as f:\n",
        "  pickle.dump(results_dict, f)"
      ],
      "metadata": {
        "id": "4ASlwKNdJ8Xr"
      },
      "execution_count": 31,
      "outputs": []
    },
    {
      "cell_type": "code",
      "source": [
        "from google.colab import files\n",
        "files.download( \"./result_dict_preliminary.pkl\" )"
      ],
      "metadata": {
        "colab": {
          "base_uri": "https://localhost:8080/",
          "height": 17
        },
        "id": "rP4-5sXML5Tb",
        "outputId": "8b912838-7bf8-4e64-cbc5-d710702a4d16"
      },
      "execution_count": 43,
      "outputs": [
        {
          "output_type": "display_data",
          "data": {
            "text/plain": [
              "<IPython.core.display.Javascript object>"
            ],
            "application/javascript": [
              "\n",
              "    async function download(id, filename, size) {\n",
              "      if (!google.colab.kernel.accessAllowed) {\n",
              "        return;\n",
              "      }\n",
              "      const div = document.createElement('div');\n",
              "      const label = document.createElement('label');\n",
              "      label.textContent = `Downloading \"${filename}\": `;\n",
              "      div.appendChild(label);\n",
              "      const progress = document.createElement('progress');\n",
              "      progress.max = size;\n",
              "      div.appendChild(progress);\n",
              "      document.body.appendChild(div);\n",
              "\n",
              "      const buffers = [];\n",
              "      let downloaded = 0;\n",
              "\n",
              "      const channel = await google.colab.kernel.comms.open(id);\n",
              "      // Send a message to notify the kernel that we're ready.\n",
              "      channel.send({})\n",
              "\n",
              "      for await (const message of channel.messages) {\n",
              "        // Send a message to notify the kernel that we're ready.\n",
              "        channel.send({})\n",
              "        if (message.buffers) {\n",
              "          for (const buffer of message.buffers) {\n",
              "            buffers.push(buffer);\n",
              "            downloaded += buffer.byteLength;\n",
              "            progress.value = downloaded;\n",
              "          }\n",
              "        }\n",
              "      }\n",
              "      const blob = new Blob(buffers, {type: 'application/binary'});\n",
              "      const a = document.createElement('a');\n",
              "      a.href = window.URL.createObjectURL(blob);\n",
              "      a.download = filename;\n",
              "      div.appendChild(a);\n",
              "      a.click();\n",
              "      div.remove();\n",
              "    }\n",
              "  "
            ]
          },
          "metadata": {}
        },
        {
          "output_type": "display_data",
          "data": {
            "text/plain": [
              "<IPython.core.display.Javascript object>"
            ],
            "application/javascript": [
              "download(\"download_36052220-ae27-4251-ac23-7a700bf8125c\", \"result_dict_preliminary.pkl\", 613397)"
            ]
          },
          "metadata": {}
        }
      ]
    },
    {
      "cell_type": "code",
      "source": [],
      "metadata": {
        "id": "fJDZT3MOMIJ2"
      },
      "execution_count": null,
      "outputs": []
    }
  ]
}